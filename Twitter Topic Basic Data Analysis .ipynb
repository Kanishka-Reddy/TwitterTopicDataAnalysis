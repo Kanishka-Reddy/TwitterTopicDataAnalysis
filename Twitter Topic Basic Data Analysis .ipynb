{
 "cells": [
  {
   "cell_type": "markdown",
   "id": "24068414",
   "metadata": {},
   "source": [
    "# Twitter API Authentication"
   ]
  },
  {
   "cell_type": "code",
   "execution_count": 1,
   "id": "cc51271f",
   "metadata": {},
   "outputs": [],
   "source": [
    "import tweepy as tw\n",
    "import numpy as np\n",
    "import pandas as pd\n",
    "import matplotlib.pyplot as plt"
   ]
  },
  {
   "cell_type": "code",
   "execution_count": 2,
   "id": "d29cdf20",
   "metadata": {},
   "outputs": [],
   "source": [
    "consumer_key = ''\n",
    "consumer_secret = ''\n",
    "access_token = ''\n",
    "access_token_secret = ''"
   ]
  },
  {
   "cell_type": "code",
   "execution_count": 3,
   "id": "ffbbeec2",
   "metadata": {},
   "outputs": [],
   "source": [
    "auth = tw.OAuthHandler(consumer_key, consumer_secret)\n",
    "auth.set_access_token(access_token, access_token_secret)\n",
    "api = tw.API(auth, wait_on_rate_limit=True)"
   ]
  },
  {
   "cell_type": "markdown",
   "id": "df8dffa6",
   "metadata": {},
   "source": [
    "# Get Tweets"
   ]
  },
  {
   "cell_type": "code",
   "execution_count": 11,
   "id": "e253fbbf",
   "metadata": {
    "scrolled": true
   },
   "outputs": [
    {
     "name": "stdout",
     "output_type": "stream",
     "text": [
      "Enter topic string to be queried: elon\n",
      "[{'Tweet': 'RT @LongDongDogelon: \"Diamond Hands are Forever\" starring Mars, Dogelon Mars $ELON @DogelonMars @DogelonWarriors @Whale__Tail https://t.co/…', 'Timestamp': datetime.datetime(2021, 12, 13, 12, 37, 38, tzinfo=datetime.timezone.utc)}, {'Tweet': 'RT @Super_Thinkiing: It is possible for ordinary people to choose to be extraordinary.\\n\\n- Elon Musk', 'Timestamp': datetime.datetime(2021, 12, 13, 12, 37, 34, tzinfo=datetime.timezone.utc)}, {'Tweet': '$META is looking like the highest potential meme so far\\nHow high will this go you think?\\n0xbFa0D33F3155321934e4e433… https://t.co/AeFLWBotPs', 'Timestamp': datetime.datetime(2021, 12, 13, 12, 37, 34, tzinfo=datetime.timezone.utc)}, {'Tweet': 'Elon musks kid will never relate to trees. That’s all I’m saying', 'Timestamp': datetime.datetime(2021, 12, 13, 12, 37, 32, tzinfo=datetime.timezone.utc)}, {'Tweet': 'RT @NexusVReality: Nexus has begun its digital scanning. Soon we will have a 3D explorable model to bring to the world in advance of the ph…', 'Timestamp': datetime.datetime(2021, 12, 13, 12, 37, 30, tzinfo=datetime.timezone.utc)}]\n"
     ]
    }
   ],
   "source": [
    "s = input(\"Enter topic string to be queried: \")\n",
    "search_query = tw.Cursor(api.search_tweets, q=s, lang=\"en\").items(1000)\n",
    "tweets = [{'Tweet':tweet.text, 'Timestamp':tweet.created_at} for tweet in search_query]\n",
    "print(tweets[0:5])"
   ]
  },
  {
   "cell_type": "code",
   "execution_count": 12,
   "id": "9d1ff5d9",
   "metadata": {},
   "outputs": [
    {
     "data": {
      "text/html": [
       "<div>\n",
       "<style scoped>\n",
       "    .dataframe tbody tr th:only-of-type {\n",
       "        vertical-align: middle;\n",
       "    }\n",
       "\n",
       "    .dataframe tbody tr th {\n",
       "        vertical-align: top;\n",
       "    }\n",
       "\n",
       "    .dataframe thead th {\n",
       "        text-align: right;\n",
       "    }\n",
       "</style>\n",
       "<table border=\"1\" class=\"dataframe\">\n",
       "  <thead>\n",
       "    <tr style=\"text-align: right;\">\n",
       "      <th></th>\n",
       "      <th>Tweet</th>\n",
       "      <th>Timestamp</th>\n",
       "    </tr>\n",
       "  </thead>\n",
       "  <tbody>\n",
       "    <tr>\n",
       "      <th>0</th>\n",
       "      <td>RT @LongDongDogelon: \"Diamond Hands are Foreve...</td>\n",
       "      <td>2021-12-13 12:37:38+00:00</td>\n",
       "    </tr>\n",
       "    <tr>\n",
       "      <th>1</th>\n",
       "      <td>RT @Super_Thinkiing: It is possible for ordina...</td>\n",
       "      <td>2021-12-13 12:37:34+00:00</td>\n",
       "    </tr>\n",
       "    <tr>\n",
       "      <th>2</th>\n",
       "      <td>$META is looking like the highest potential me...</td>\n",
       "      <td>2021-12-13 12:37:34+00:00</td>\n",
       "    </tr>\n",
       "    <tr>\n",
       "      <th>3</th>\n",
       "      <td>Elon musks kid will never relate to trees. Tha...</td>\n",
       "      <td>2021-12-13 12:37:32+00:00</td>\n",
       "    </tr>\n",
       "    <tr>\n",
       "      <th>4</th>\n",
       "      <td>RT @NexusVReality: Nexus has begun its digital...</td>\n",
       "      <td>2021-12-13 12:37:30+00:00</td>\n",
       "    </tr>\n",
       "  </tbody>\n",
       "</table>\n",
       "</div>"
      ],
      "text/plain": [
       "                                               Tweet                 Timestamp\n",
       "0  RT @LongDongDogelon: \"Diamond Hands are Foreve... 2021-12-13 12:37:38+00:00\n",
       "1  RT @Super_Thinkiing: It is possible for ordina... 2021-12-13 12:37:34+00:00\n",
       "2  $META is looking like the highest potential me... 2021-12-13 12:37:34+00:00\n",
       "3  Elon musks kid will never relate to trees. Tha... 2021-12-13 12:37:32+00:00\n",
       "4  RT @NexusVReality: Nexus has begun its digital... 2021-12-13 12:37:30+00:00"
      ]
     },
     "execution_count": 12,
     "metadata": {},
     "output_type": "execute_result"
    }
   ],
   "source": [
    "df = pd.DataFrame.from_dict(tweets)\n",
    "df.head()"
   ]
  },
  {
   "cell_type": "markdown",
   "id": "c58b55c1",
   "metadata": {},
   "source": [
    "# Data Pre-Processing"
   ]
  },
  {
   "cell_type": "code",
   "execution_count": 14,
   "id": "705a4b0a",
   "metadata": {
    "scrolled": true
   },
   "outputs": [
    {
     "name": "stdout",
     "output_type": "stream",
     "text": [
      "Collecting textblob\n",
      "  Downloading textblob-0.17.1-py2.py3-none-any.whl (636 kB)\n",
      "Requirement already satisfied: nltk>=3.1 in c:\\users\\kanis\\anaconda3\\lib\\site-packages (from textblob) (3.6.5)\n",
      "Requirement already satisfied: click in c:\\users\\kanis\\anaconda3\\lib\\site-packages (from nltk>=3.1->textblob) (8.0.3)\n",
      "Requirement already satisfied: joblib in c:\\users\\kanis\\anaconda3\\lib\\site-packages (from nltk>=3.1->textblob) (1.1.0)\n",
      "Requirement already satisfied: regex>=2021.8.3 in c:\\users\\kanis\\anaconda3\\lib\\site-packages (from nltk>=3.1->textblob) (2021.8.3)\n",
      "Requirement already satisfied: tqdm in c:\\users\\kanis\\anaconda3\\lib\\site-packages (from nltk>=3.1->textblob) (4.62.3)\n",
      "Requirement already satisfied: colorama in c:\\users\\kanis\\anaconda3\\lib\\site-packages (from click->nltk>=3.1->textblob) (0.4.4)\n",
      "Installing collected packages: textblob\n",
      "Successfully installed textblob-0.17.1\n"
     ]
    }
   ],
   "source": [
    "import nltk\n",
    "!pip install textblob\n",
    "from nltk.corpus import stopwords\n",
    "from textblob import Word, TextBlob"
   ]
  },
  {
   "cell_type": "code",
   "execution_count": 15,
   "id": "a66e5cf5",
   "metadata": {},
   "outputs": [
    {
     "name": "stderr",
     "output_type": "stream",
     "text": [
      "[nltk_data] Downloading package stopwords to\n",
      "[nltk_data]     C:\\Users\\kanis\\AppData\\Roaming\\nltk_data...\n",
      "[nltk_data]   Unzipping corpora\\stopwords.zip.\n",
      "[nltk_data] Downloading package wordnet to\n",
      "[nltk_data]     C:\\Users\\kanis\\AppData\\Roaming\\nltk_data...\n",
      "[nltk_data]   Unzipping corpora\\wordnet.zip.\n"
     ]
    }
   ],
   "source": [
    "nltk.download('stopwords')\n",
    "nltk.download('wordnet')\n",
    "stop_words = stopwords.words('english')\n",
    "custom_stopwords = ['RT', s]"
   ]
  },
  {
   "cell_type": "code",
   "execution_count": 16,
   "id": "ec8b6d67",
   "metadata": {},
   "outputs": [
    {
     "data": {
      "text/html": [
       "<div>\n",
       "<style scoped>\n",
       "    .dataframe tbody tr th:only-of-type {\n",
       "        vertical-align: middle;\n",
       "    }\n",
       "\n",
       "    .dataframe tbody tr th {\n",
       "        vertical-align: top;\n",
       "    }\n",
       "\n",
       "    .dataframe thead th {\n",
       "        text-align: right;\n",
       "    }\n",
       "</style>\n",
       "<table border=\"1\" class=\"dataframe\">\n",
       "  <thead>\n",
       "    <tr style=\"text-align: right;\">\n",
       "      <th></th>\n",
       "      <th>Tweet</th>\n",
       "      <th>Timestamp</th>\n",
       "      <th>Processed Tweet</th>\n",
       "    </tr>\n",
       "  </thead>\n",
       "  <tbody>\n",
       "    <tr>\n",
       "      <th>0</th>\n",
       "      <td>RT @LongDongDogelon: \"Diamond Hands are Foreve...</td>\n",
       "      <td>2021-12-13 12:37:38+00:00</td>\n",
       "      <td>@LongDongDogelon: \"Diamond Hands Forever\" star...</td>\n",
       "    </tr>\n",
       "    <tr>\n",
       "      <th>1</th>\n",
       "      <td>RT @Super_Thinkiing: It is possible for ordina...</td>\n",
       "      <td>2021-12-13 12:37:34+00:00</td>\n",
       "      <td>@Super_Thinkiing: It possible ordinary people ...</td>\n",
       "    </tr>\n",
       "    <tr>\n",
       "      <th>2</th>\n",
       "      <td>$META is looking like the highest potential me...</td>\n",
       "      <td>2021-12-13 12:37:34+00:00</td>\n",
       "      <td>$META looking like highest potential meme far ...</td>\n",
       "    </tr>\n",
       "    <tr>\n",
       "      <th>3</th>\n",
       "      <td>Elon musks kid will never relate to trees. Tha...</td>\n",
       "      <td>2021-12-13 12:37:32+00:00</td>\n",
       "      <td>Elon musk kid never relate trees. That’s I’m s...</td>\n",
       "    </tr>\n",
       "    <tr>\n",
       "      <th>4</th>\n",
       "      <td>RT @NexusVReality: Nexus has begun its digital...</td>\n",
       "      <td>2021-12-13 12:37:30+00:00</td>\n",
       "      <td>@NexusVReality: Nexus begun digital scanning. ...</td>\n",
       "    </tr>\n",
       "  </tbody>\n",
       "</table>\n",
       "</div>"
      ],
      "text/plain": [
       "                                               Tweet  \\\n",
       "0  RT @LongDongDogelon: \"Diamond Hands are Foreve...   \n",
       "1  RT @Super_Thinkiing: It is possible for ordina...   \n",
       "2  $META is looking like the highest potential me...   \n",
       "3  Elon musks kid will never relate to trees. Tha...   \n",
       "4  RT @NexusVReality: Nexus has begun its digital...   \n",
       "\n",
       "                  Timestamp                                    Processed Tweet  \n",
       "0 2021-12-13 12:37:38+00:00  @LongDongDogelon: \"Diamond Hands Forever\" star...  \n",
       "1 2021-12-13 12:37:34+00:00  @Super_Thinkiing: It possible ordinary people ...  \n",
       "2 2021-12-13 12:37:34+00:00  $META looking like highest potential meme far ...  \n",
       "3 2021-12-13 12:37:32+00:00  Elon musk kid never relate trees. That’s I’m s...  \n",
       "4 2021-12-13 12:37:30+00:00  @NexusVReality: Nexus begun digital scanning. ...  "
      ]
     },
     "execution_count": 16,
     "metadata": {},
     "output_type": "execute_result"
    }
   ],
   "source": [
    "def preprocess_tweets(tweet, custom_stopwords):\n",
    "    preprocessed_tweet = tweet\n",
    "    preprocessed_tweet.replace('[^\\w\\s]', '')\n",
    "    preprocessed_tweet = \" \".join(word for word in preprocessed_tweet.split() if word not in stop_words)\n",
    "    preprocessed_tweet = \" \".join(word for word in preprocessed_tweet.split() if word not in custom_stopwords)\n",
    "    preprocessed_tweet = \" \".join(Word(word).lemmatize() for word in preprocessed_tweet.split())\n",
    "    return(preprocessed_tweet)\n",
    "\n",
    "df['Processed Tweet'] = df['Tweet'].apply(lambda x: preprocess_tweets(x, custom_stopwords))\n",
    "df.head()"
   ]
  },
  {
   "cell_type": "code",
   "execution_count": 17,
   "id": "f7c73ec5",
   "metadata": {},
   "outputs": [],
   "source": [
    "df['polarity'] = df['Processed Tweet'].apply(lambda x: TextBlob(x).sentiment[0])\n",
    "df['subjectivity'] = df['Processed Tweet'].apply(lambda x: TextBlob(x).sentiment[1])"
   ]
  },
  {
   "cell_type": "markdown",
   "id": "2a641692",
   "metadata": {},
   "source": [
    "# Visualize "
   ]
  },
  {
   "cell_type": "code",
   "execution_count": 23,
   "id": "95d0976c",
   "metadata": {},
   "outputs": [
    {
     "data": {
      "image/png": "[encoded data removed]",
      "text/plain": [
       "<Figure size 936x720 with 2 Axes>"
      ]
     },
     "metadata": {
      "needs_background": "light"
     },
     "output_type": "display_data"
    }
   ],
   "source": [
    "plotdf = df.sort_values(by='Timestamp', ascending=True)\n",
    "plotdf['Moving Average Polarity'] = plotdf.polarity.rolling(10, min_periods=3).mean()\n",
    "\n",
    "fig, axes = plt.subplots(2, 1, figsize=(13, 10))\n",
    "\n",
    "axes[0].plot(plotdf['Timestamp'], plotdf['Moving Average Polarity'])\n",
    "axes[0].set_title(\"\\n\".join([\"Topic Polarity\"]))\n",
    "\n",
    "plt.show()"
   ]
  },
  {
   "cell_type": "code",
   "execution_count": null,
   "id": "24622fad",
   "metadata": {},
   "outputs": [],
   "source": []
  }
 ],
 "metadata": {
  "kernelspec": {
   "display_name": "Python 3 (ipykernel)",
   "language": "python",
   "name": "python3"
  },
  "language_info": {
   "codemirror_mode": {
    "name": "ipython",
    "version": 3
   },
   "file_extension": ".py",
   "mimetype": "text/x-python",
   "name": "python",
   "nbconvert_exporter": "python",
   "pygments_lexer": "ipython3",
   "version": "3.9.7"
  }
 },
 "nbformat": 4,
 "nbformat_minor": 5
}
